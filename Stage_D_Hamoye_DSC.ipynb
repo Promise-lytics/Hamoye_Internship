{
  "nbformat": 4,
  "nbformat_minor": 0,
  "metadata": {
    "colab": {
      "name": "Stage D Hamoye DSC",
      "provenance": [],
      "collapsed_sections": [],
      "authorship_tag": "ABX9TyNh3d+3Z+23e6KCLw2xxiOR",
      "include_colab_link": true
    },
    "kernelspec": {
      "name": "python3",
      "display_name": "Python 3"
    }
  },
  "cells": [
    {
      "cell_type": "markdown",
      "metadata": {
        "id": "view-in-github",
        "colab_type": "text"
      },
      "source": [
        "<a href=\"https://colab.research.google.com/github/Promise-lytics/Hamoye_Internship/blob/master/Stage_D_Hamoye_DSC.ipynb\" target=\"_parent\"><img src=\"https://colab.research.google.com/assets/colab-badge.svg\" alt=\"Open In Colab\"/></a>"
      ]
    },
    {
      "cell_type": "markdown",
      "metadata": {
        "id": "tBUOudkBYoAH",
        "colab_type": "text"
      },
      "source": [
        "Importing the needed cells and as well loading the data. The MNIST is a large database of handwritten digits commonly used in training and testing image processing systems. The Image dimensions are 28*28 numpy array"
      ]
    },
    {
      "cell_type": "code",
      "metadata": {
        "id": "877uCw2GIq5A",
        "colab_type": "code",
        "colab": {
          "base_uri": "https://localhost:8080/",
          "height": 34
        },
        "outputId": "238a2bc8-7205-4b09-ddc9-e962852283a9"
      },
      "source": [
        "#Importing the libraries \n",
        "\n",
        "import numpy as np\n",
        "import matplotlib.pyplot as plt\n",
        "import tensorflow as tf\n",
        "from tensorflow import keras\n",
        "mnist = keras.datasets.mnist\n",
        "(train_images, train_labels), (test_images, test_labels) = mnist.load_data()\n",
        "\n",
        "# We look at the shape of the data\n",
        "\n",
        "print(\"Training data: {}, {}\".format(train_images.shape, train_labels.shape))"
      ],
      "execution_count": 31,
      "outputs": [
        {
          "output_type": "stream",
          "text": [
            "Training data: (60000, 28, 28), (60000,)\n"
          ],
          "name": "stdout"
        }
      ]
    },
    {
      "cell_type": "code",
      "metadata": {
        "id": "pNZKm5SGP5XZ",
        "colab_type": "code",
        "colab": {
          "base_uri": "https://localhost:8080/",
          "height": 34
        },
        "outputId": "9c16aeac-e9b3-4456-8fad-32858d1dc338"
      },
      "source": [
        "print(\"Test data: {}, {}\".format(test_images.shape, test_labels.shape))"
      ],
      "execution_count": 32,
      "outputs": [
        {
          "output_type": "stream",
          "text": [
            "Test data: (10000, 28, 28), (10000,)\n"
          ],
          "name": "stdout"
        }
      ]
    },
    {
      "cell_type": "code",
      "metadata": {
        "id": "lf2jyAdtQJ_5",
        "colab_type": "code",
        "colab": {
          "base_uri": "https://localhost:8080/",
          "height": 34
        },
        "outputId": "0260306b-0bbb-454f-f1e1-289154d61954"
      },
      "source": [
        "class_labels = np.unique(train_labels)\n",
        "print(\"There are {} classes in the dataset. They are: {}\".format(len(class_labels), class_labels))"
      ],
      "execution_count": 33,
      "outputs": [
        {
          "output_type": "stream",
          "text": [
            "There are 10 classes in the dataset. They are: [0 1 2 3 4 5 6 7 8 9]\n"
          ],
          "name": "stdout"
        }
      ]
    },
    {
      "cell_type": "code",
      "metadata": {
        "id": "v9iZ496hQhbP",
        "colab_type": "code",
        "colab": {
          "base_uri": "https://localhost:8080/",
          "height": 195
        },
        "outputId": "05a26fed-1241-4bb2-d366-961bafee65f3"
      },
      "source": [
        "# Let us plot and see a few images \n",
        "\n",
        "plt.figure(figsize=(8, 5))\n",
        "\n",
        "plt.subplot(1,3,1)\n",
        "plt.imshow(train_images[0])\n",
        "plt.title(\"Label: {}\".format(train_labels[0]))\n",
        "\n",
        "plt.subplot(1,3,2)\n",
        "plt.imshow(train_images[2500])\n",
        "plt.title(\"Label: {}\".format(train_labels[2500]))\n",
        "\n",
        "plt.subplot(1,3,3)\n",
        "plt.imshow(test_images[12])\n",
        "\n",
        "plt.show()\n"
      ],
      "execution_count": 34,
      "outputs": [
        {
          "output_type": "display_data",
          "data": {
            "image/png": "[encoded data removed]",
            "text/plain": [
              "<Figure size 576x360 with 3 Axes>"
            ]
          },
          "metadata": {
            "tags": [],
            "needs_background": "light"
          }
        }
      ]
    },
    {
      "cell_type": "markdown",
      "metadata": {
        "id": "YE_9tEyScWFs",
        "colab_type": "text"
      },
      "source": [
        "\n",
        "Preprocessing of the data\n",
        "\n"
      ]
    },
    {
      "cell_type": "code",
      "metadata": {
        "id": "1g1E16CacMxE",
        "colab_type": "code",
        "colab": {}
      },
      "source": [
        "\n",
        "# As usual, we scale our dataset to range between 0 and 1. In this dataset, the pixel values range from 0 to 255.\n",
        "# Dividing the data by 255 scales to the required range\n",
        "\n",
        "train_images = train_images / 255.0\n",
        "test_images = test_images / 255.0"
      ],
      "execution_count": 35,
      "outputs": []
    },
    {
      "cell_type": "code",
      "metadata": {
        "id": "jy-RVUKPQ1Dx",
        "colab_type": "code",
        "colab": {
          "base_uri": "https://localhost:8080/",
          "height": 85
        },
        "outputId": "05b5c1a0-febd-41fb-d818-ce0d5ac4cdd0"
      },
      "source": [
        "# Split training data to training and validation sets\n",
        "\n",
        "x_train = train_images[0:50000]\n",
        "x_val = train_images[50000:]\n",
        "y_train = train_labels[0:50000]\n",
        "y_val = train_labels[50000:]\n",
        "\n",
        "print(\"x_train: {}\".format(x_train.shape))\n",
        "print(\"x_val: {}\".format(x_val.shape))\n",
        "print(\"y_train: {}\".format(y_train.shape))\n",
        "print(\"y_val: {}\".format(y_val.shape))"
      ],
      "execution_count": 36,
      "outputs": [
        {
          "output_type": "stream",
          "text": [
            "x_train: (50000, 28, 28)\n",
            "x_val: (10000, 28, 28)\n",
            "y_train: (50000,)\n",
            "y_val: (10000,)\n"
          ],
          "name": "stdout"
        }
      ]
    },
    {
      "cell_type": "code",
      "metadata": {
        "id": "cKicBugWe106",
        "colab_type": "code",
        "colab": {}
      },
      "source": [
        "from tensorflow.keras.utils import to_categorical\n",
        "no_labels = 10\n",
        "y_train = to_categorical(y_train, no_labels)\n",
        "y_val = to_categorical(y_val, no_labels)\n",
        "y_test = to_categorical(test_labels, no_labels)"
      ],
      "execution_count": 37,
      "outputs": []
    },
    {
      "cell_type": "code",
      "metadata": {
        "id": "YpTnbR4mRM-T",
        "colab_type": "code",
        "colab": {
          "base_uri": "https://localhost:8080/",
          "height": 68
        },
        "outputId": "af8a9e58-1334-4bdb-82ff-6d51b40417c1"
      },
      "source": [
        "#Reshaping the data from 28*28 array to a single array\n",
        "\n",
        "new_dimension = np.prod(train_images.shape[1:])\n",
        "x_train = x_train.reshape(x_train.shape[0], new_dimension)\n",
        "x_val = x_val.reshape(x_val.shape[0], new_dimension)\n",
        "test_images = test_images.reshape(test_images.shape[0], new_dimension)\n",
        "\n",
        "print(\"x_train: {}\".format(x_train.shape))\n",
        "print(\"x_val: {}\".format(x_val.shape))\n",
        "print(\"test_images: {}\".format(test_images.shape))"
      ],
      "execution_count": 38,
      "outputs": [
        {
          "output_type": "stream",
          "text": [
            "x_train: (50000, 784)\n",
            "x_val: (10000, 784)\n",
            "test_images: (10000, 784)\n"
          ],
          "name": "stdout"
        }
      ]
    },
    {
      "cell_type": "code",
      "metadata": {
        "id": "JQqmFRTLT7xk",
        "colab_type": "code",
        "colab": {}
      },
      "source": [
        "# inputs\n",
        "#placeholders are not enabled in tf 2\n",
        "import tensorflow.compat.v1 as tf\n",
        "tf.disable_v2_behavior()\n",
        "X = tf.placeholder(tf.float32, [None, new_dimension])\n",
        "Y = tf.placeholder(tf.float32, [None, no_labels])"
      ],
      "execution_count": 39,
      "outputs": []
    },
    {
      "cell_type": "markdown",
      "metadata": {
        "id": "xglvsSEygSKv",
        "colab_type": "text"
      },
      "source": [
        "Creating the model architecture\n",
        "This requires the building of the model architecture"
      ]
    },
    {
      "cell_type": "code",
      "metadata": {
        "id": "hosPgdfKUIlq",
        "colab_type": "code",
        "colab": {}
      },
      "source": [
        "# create model architecture\n",
        "def multilayer_perceptron(x, no_classes, first_layer_neurons=256, second_layer_neurons=128):\n",
        "  # first layer\n",
        "  first_weight = tf.Variable(tf.random_uniform([new_dimension, first_layer_neurons]))\n",
        "  first_bias = tf.Variable(tf.zeros([first_layer_neurons]))\n",
        "  first_layer_output = tf.nn.relu(tf.add(tf.matmul(x, first_weight), first_bias))\n",
        "  # second layer\n",
        "  second_weight = tf.Variable(tf.random_uniform([first_layer_neurons,second_layer_neurons]))\n",
        "  second_bias = tf.Variable(tf.zeros([second_layer_neurons]))\n",
        "  second_layer_output = tf.nn.relu(tf.add(tf.matmul(first_layer_output, second_weight), second_bias))\n",
        "  # output layer\n",
        "  final_weight = tf.Variable(tf.random_uniform([second_layer_neurons, no_classes]))\n",
        "  final_bias = tf.Variable(tf.zeros([no_classes]))\n",
        "  logits = tf.add(tf.matmul(second_layer_output, final_weight), final_bias)\n",
        "\n",
        "  return logits"
      ],
      "execution_count": 40,
      "outputs": []
    },
    {
      "cell_type": "code",
      "metadata": {
        "id": "ABO4QQr5UWNP",
        "colab_type": "code",
        "colab": {}
      },
      "source": [
        "logits = multilayer_perceptron(X, no_labels)\n",
        "learning_rate = 0.01\n",
        "#we define the loss and optimiser for the network\n",
        "loss_op = tf.reduce_mean(tf.nn.softmax_cross_entropy_with_logits(logits=logits, labels=Y))\n",
        "optimiser = tf.train.AdamOptimizer(learning_rate=learning_rate)\n",
        "train_op = optimiser.minimize(loss_op)"
      ],
      "execution_count": 41,
      "outputs": []
    },
    {
      "cell_type": "code",
      "metadata": {
        "id": "JXDmox35Ue3r",
        "colab_type": "code",
        "colab": {
          "base_uri": "https://localhost:8080/",
          "height": 374
        },
        "outputId": "34d3ea6c-fe52-4d73-f57e-43085772c0ad"
      },
      "source": [
        "# Initialize the variables\n",
        "init = tf.global_variables_initializer()\n",
        "\n",
        "epochs = 20\n",
        "batch_size = 1000\n",
        "iteration = len(x_train) // batch_size\n",
        "#train model\n",
        "with tf.Session() as session:\n",
        "  session.run(init)\n",
        "  for epoch in range(epochs):\n",
        "    average_cost = 0\n",
        "    start, end = 0, batch_size\n",
        "    for i in range(iteration):\n",
        "      batch_x, batch_y = x_train[start: end], y_train[start: end]\n",
        "      _, loss = session.run([train_op, loss_op], feed_dict={X: batch_x, Y: batch_y})\n",
        "      start += batch_size\n",
        "      end += batch_size \n",
        "      #average loss\n",
        "      average_cost += loss/iteration\n",
        "    print(\"Epoch========{}\".format(epoch))\n",
        "    #evaluate model\n",
        "  prediction = tf.nn.softmax(logits)\n",
        "  ground_truth = tf.equal(tf.argmax(prediction, 1), tf.argmax(Y, 1))\n",
        "  accuracy = tf.reduce_mean(tf.cast(ground_truth, \"float\"))\n",
        "  print(\"Accuracy: {}\".format(accuracy.eval({X: test_images, Y: y_test})))"
      ],
      "execution_count": 42,
      "outputs": [
        {
          "output_type": "stream",
          "text": [
            "Epoch========0\n",
            "Epoch========1\n",
            "Epoch========2\n",
            "Epoch========3\n",
            "Epoch========4\n",
            "Epoch========5\n",
            "Epoch========6\n",
            "Epoch========7\n",
            "Epoch========8\n",
            "Epoch========9\n",
            "Epoch========10\n",
            "Epoch========11\n",
            "Epoch========12\n",
            "Epoch========13\n",
            "Epoch========14\n",
            "Epoch========15\n",
            "Epoch========16\n",
            "Epoch========17\n",
            "Epoch========18\n",
            "Epoch========19\n",
            "Accuracy: 0.9111999869346619\n"
          ],
          "name": "stdout"
        }
      ]
    },
    {
      "cell_type": "markdown",
      "metadata": {
        "id": "q1u4gjCKhLBb",
        "colab_type": "text"
      },
      "source": [
        "Optimization for training deep neural network"
      ]
    },
    {
      "cell_type": "code",
      "metadata": {
        "id": "pIU_E3h-U9Jz",
        "colab_type": "code",
        "colab": {}
      },
      "source": [
        "#Building a Sequential Feed Forward Network in Keras\n",
        "\n",
        "from tensorflow.keras.layers import Dense\n",
        "from tensorflow.keras.models import Sequential\n",
        "#Build the model object\n",
        "model = Sequential()\n",
        "# Build the input and the hidden layers\n",
        "model.add(Dense(256, activation='relu', input_shape=(new_dimension,)))\n",
        "model.add(Dense(128, activation='relu'))\n",
        "# Build the output layer\n",
        "model.add(Dense(no_labels, activation='softmax'))"
      ],
      "execution_count": 43,
      "outputs": []
    },
    {
      "cell_type": "code",
      "metadata": {
        "id": "hpLTstjJVFtj",
        "colab_type": "code",
        "colab": {}
      },
      "source": [
        "model.compile(optimizer='adam', loss=tf.keras.losses.categorical_crossentropy, \n",
        "              metrics=['accuracy'])"
      ],
      "execution_count": 44,
      "outputs": []
    },
    {
      "cell_type": "code",
      "metadata": {
        "id": "DU1txD0dVObu",
        "colab_type": "code",
        "colab": {
          "base_uri": "https://localhost:8080/",
          "height": 748
        },
        "outputId": "32e8927a-b030-4cc0-e7fb-6da74b55d171"
      },
      "source": [
        "history = model.fit(x_train, y_train, validation_data=(x_val, y_val), epochs=20, batch_size=1000)\n",
        "\n",
        "test_loss, test_accuracy = model.evaluate(test_images, y_test)\n",
        "print('Test loss: {}'.format(test_loss))\n",
        "print('Test accuracy: {}'.format(test_accuracy))"
      ],
      "execution_count": 45,
      "outputs": [
        {
          "output_type": "stream",
          "text": [
            "Train on 50000 samples, validate on 10000 samples\n",
            "Epoch 1/20\n",
            "50000/50000 [==============================] - 2s 31us/sample - loss: 0.6752 - acc: 0.8166 - val_loss: 0.2537 - val_acc: 0.9279\n",
            "Epoch 2/20\n",
            "50000/50000 [==============================] - 1s 29us/sample - loss: 0.2298 - acc: 0.9344 - val_loss: 0.1841 - val_acc: 0.9496\n",
            "Epoch 3/20\n",
            "50000/50000 [==============================] - 1s 29us/sample - loss: 0.1695 - acc: 0.9512 - val_loss: 0.1479 - val_acc: 0.9595\n",
            "Epoch 4/20\n",
            "50000/50000 [==============================] - 1s 29us/sample - loss: 0.1304 - acc: 0.9626 - val_loss: 0.1248 - val_acc: 0.9654\n",
            "Epoch 5/20\n",
            "50000/50000 [==============================] - 1s 28us/sample - loss: 0.1064 - acc: 0.9689 - val_loss: 0.1170 - val_acc: 0.9678\n",
            "Epoch 6/20\n",
            "50000/50000 [==============================] - 1s 29us/sample - loss: 0.0893 - acc: 0.9738 - val_loss: 0.1044 - val_acc: 0.9718\n",
            "Epoch 7/20\n",
            "50000/50000 [==============================] - 1s 29us/sample - loss: 0.0745 - acc: 0.9785 - val_loss: 0.0954 - val_acc: 0.9715\n",
            "Epoch 8/20\n",
            "50000/50000 [==============================] - 1s 30us/sample - loss: 0.0631 - acc: 0.9818 - val_loss: 0.0954 - val_acc: 0.9717\n",
            "Epoch 9/20\n",
            "50000/50000 [==============================] - 1s 28us/sample - loss: 0.0537 - acc: 0.9851 - val_loss: 0.0863 - val_acc: 0.9744\n",
            "Epoch 10/20\n",
            "50000/50000 [==============================] - 1s 29us/sample - loss: 0.0457 - acc: 0.9876 - val_loss: 0.0818 - val_acc: 0.9756\n",
            "Epoch 11/20\n",
            "50000/50000 [==============================] - 1s 29us/sample - loss: 0.0387 - acc: 0.9898 - val_loss: 0.0815 - val_acc: 0.9753\n",
            "Epoch 12/20\n",
            "50000/50000 [==============================] - 1s 29us/sample - loss: 0.0328 - acc: 0.9914 - val_loss: 0.0843 - val_acc: 0.9735\n",
            "Epoch 13/20\n",
            "50000/50000 [==============================] - 1s 29us/sample - loss: 0.0280 - acc: 0.9929 - val_loss: 0.0796 - val_acc: 0.9756\n",
            "Epoch 14/20\n",
            "50000/50000 [==============================] - 1s 29us/sample - loss: 0.0250 - acc: 0.9937 - val_loss: 0.0792 - val_acc: 0.9761\n",
            "Epoch 15/20\n",
            "50000/50000 [==============================] - 1s 29us/sample - loss: 0.0211 - acc: 0.9953 - val_loss: 0.0822 - val_acc: 0.9768\n",
            "Epoch 16/20\n",
            "50000/50000 [==============================] - 1s 30us/sample - loss: 0.0180 - acc: 0.9962 - val_loss: 0.0837 - val_acc: 0.9752\n",
            "Epoch 17/20\n",
            "50000/50000 [==============================] - 1s 29us/sample - loss: 0.0157 - acc: 0.9970 - val_loss: 0.0795 - val_acc: 0.9759\n",
            "Epoch 18/20\n",
            "50000/50000 [==============================] - 1s 29us/sample - loss: 0.0132 - acc: 0.9977 - val_loss: 0.0799 - val_acc: 0.9764\n",
            "Epoch 19/20\n",
            "50000/50000 [==============================] - 1s 29us/sample - loss: 0.0109 - acc: 0.9984 - val_loss: 0.0784 - val_acc: 0.9770\n",
            "Epoch 20/20\n",
            "50000/50000 [==============================] - 1s 28us/sample - loss: 0.0096 - acc: 0.9986 - val_loss: 0.0811 - val_acc: 0.9766\n",
            "Test loss: 0.07085612812363251\n",
            "Test accuracy: 0.9794999957084656\n"
          ],
          "name": "stdout"
        }
      ]
    },
    {
      "cell_type": "code",
      "metadata": {
        "id": "2cXKuYiJVnB8",
        "colab_type": "code",
        "colab": {
          "base_uri": "https://localhost:8080/",
          "height": 312
        },
        "outputId": "57b79e07-96a0-44cd-d5bc-05c397c85953"
      },
      "source": [
        "#Check for Overfitting\n",
        "\n",
        "plt.figure()\n",
        "plt.plot(history.history['loss'], 'blue')\n",
        "plt.plot(history.history['val_loss'], 'red')\n",
        "plt.legend(['Training loss', 'Validation Loss'])\n",
        "plt.xlabel('Epochs')\n",
        "plt.ylabel('Loss')\n",
        "plt.title('Loss Curves - before regularisation')"
      ],
      "execution_count": 46,
      "outputs": [
        {
          "output_type": "execute_result",
          "data": {
            "text/plain": [
              "Text(0.5, 1.0, 'Loss Curves - before regularisation')"
            ]
          },
          "metadata": {
            "tags": []
          },
          "execution_count": 46
        },
        {
          "output_type": "display_data",
          "data": {
            "image/png": "[encoded data removed]",
            "text/plain": [
              "<Figure size 432x288 with 1 Axes>"
            ]
          },
          "metadata": {
            "tags": [],
            "needs_background": "light"
          }
        }
      ]
    },
    {
      "cell_type": "code",
      "metadata": {
        "id": "lwytamOyVrbu",
        "colab_type": "code",
        "colab": {
          "base_uri": "https://localhost:8080/",
          "height": 748
        },
        "outputId": "deff399c-bed8-42cd-af85-5d7c73ff205d"
      },
      "source": [
        "from tensorflow.keras.layers import Dropout\n",
        "reg_model = Sequential()\n",
        "reg_model.add(Dense(256, activation='relu', input_shape=(new_dimension,)))\n",
        "reg_model.add(Dropout(0.4))\n",
        "reg_model.add(Dense(128, activation='relu'))\n",
        "reg_model.add(Dropout(0.4))\n",
        "reg_model.add(Dense(no_labels, activation='softmax'))\n",
        "\n",
        "reg_model.compile(optimizer='adam', loss=tf.keras.losses.categorical_crossentropy, \n",
        "              metrics=['accuracy'])\n",
        "\n",
        "reg_history = reg_model.fit(x_train, y_train, validation_data=(x_val, y_val), \n",
        "                            epochs=20, batch_size=1000)\n",
        "test_loss, test_accuracy = reg_model.evaluate(test_images, y_test)\n",
        "print('Test loss: {}'.format(test_loss))\n",
        "print('Test accuracy: {}'.format(test_accuracy))"
      ],
      "execution_count": 47,
      "outputs": [
        {
          "output_type": "stream",
          "text": [
            "Train on 50000 samples, validate on 10000 samples\n",
            "Epoch 1/20\n",
            "50000/50000 [==============================] - 2s 36us/sample - loss: 1.0126 - acc: 0.6794 - val_loss: 0.3010 - val_acc: 0.9174\n",
            "Epoch 2/20\n",
            "50000/50000 [==============================] - 2s 34us/sample - loss: 0.3816 - acc: 0.8873 - val_loss: 0.2033 - val_acc: 0.9421\n",
            "Epoch 3/20\n",
            "50000/50000 [==============================] - 2s 35us/sample - loss: 0.2865 - acc: 0.9159 - val_loss: 0.1638 - val_acc: 0.9526\n",
            "Epoch 4/20\n",
            "50000/50000 [==============================] - 2s 34us/sample - loss: 0.2363 - acc: 0.9317 - val_loss: 0.1414 - val_acc: 0.9596\n",
            "Epoch 5/20\n",
            "50000/50000 [==============================] - 2s 34us/sample - loss: 0.2019 - acc: 0.9403 - val_loss: 0.1245 - val_acc: 0.9631\n",
            "Epoch 6/20\n",
            "50000/50000 [==============================] - 2s 34us/sample - loss: 0.1812 - acc: 0.9468 - val_loss: 0.1105 - val_acc: 0.9681\n",
            "Epoch 7/20\n",
            "50000/50000 [==============================] - 2s 34us/sample - loss: 0.1599 - acc: 0.9533 - val_loss: 0.1008 - val_acc: 0.9705\n",
            "Epoch 8/20\n",
            "50000/50000 [==============================] - 2s 34us/sample - loss: 0.1443 - acc: 0.9575 - val_loss: 0.0947 - val_acc: 0.9728\n",
            "Epoch 9/20\n",
            "50000/50000 [==============================] - 2s 34us/sample - loss: 0.1338 - acc: 0.9600 - val_loss: 0.0925 - val_acc: 0.9731\n",
            "Epoch 10/20\n",
            "50000/50000 [==============================] - 2s 35us/sample - loss: 0.1231 - acc: 0.9644 - val_loss: 0.0869 - val_acc: 0.9744\n",
            "Epoch 11/20\n",
            "50000/50000 [==============================] - 2s 34us/sample - loss: 0.1150 - acc: 0.9659 - val_loss: 0.0842 - val_acc: 0.9762\n",
            "Epoch 12/20\n",
            "50000/50000 [==============================] - 2s 35us/sample - loss: 0.1065 - acc: 0.9683 - val_loss: 0.0821 - val_acc: 0.9761\n",
            "Epoch 13/20\n",
            "50000/50000 [==============================] - 2s 35us/sample - loss: 0.1002 - acc: 0.9690 - val_loss: 0.0791 - val_acc: 0.9773\n",
            "Epoch 14/20\n",
            "50000/50000 [==============================] - 2s 35us/sample - loss: 0.0950 - acc: 0.9716 - val_loss: 0.0779 - val_acc: 0.9772\n",
            "Epoch 15/20\n",
            "50000/50000 [==============================] - 2s 34us/sample - loss: 0.0881 - acc: 0.9736 - val_loss: 0.0740 - val_acc: 0.9791\n",
            "Epoch 16/20\n",
            "50000/50000 [==============================] - 2s 35us/sample - loss: 0.0838 - acc: 0.9748 - val_loss: 0.0727 - val_acc: 0.9792\n",
            "Epoch 17/20\n",
            "50000/50000 [==============================] - 2s 34us/sample - loss: 0.0781 - acc: 0.9766 - val_loss: 0.0713 - val_acc: 0.9795\n",
            "Epoch 18/20\n",
            "50000/50000 [==============================] - 2s 34us/sample - loss: 0.0758 - acc: 0.9768 - val_loss: 0.0715 - val_acc: 0.9804\n",
            "Epoch 19/20\n",
            "50000/50000 [==============================] - 2s 34us/sample - loss: 0.0701 - acc: 0.9783 - val_loss: 0.0680 - val_acc: 0.9801\n",
            "Epoch 20/20\n",
            "50000/50000 [==============================] - 2s 35us/sample - loss: 0.0682 - acc: 0.9788 - val_loss: 0.0694 - val_acc: 0.9798\n",
            "Test loss: 0.06767207395043806\n",
            "Test accuracy: 0.9805999994277954\n"
          ],
          "name": "stdout"
        }
      ]
    },
    {
      "cell_type": "code",
      "metadata": {
        "id": "YEVBkNk8WjF9",
        "colab_type": "code",
        "colab": {
          "base_uri": "https://localhost:8080/",
          "height": 51
        },
        "outputId": "aabe23e0-e3ad-4f5d-caae-daaf132c04f9"
      },
      "source": [
        "\n",
        "test_loss, test_accuracy = reg_model.evaluate(test_images, y_test)\n",
        "print('Test loss: {}'.format(test_loss))\n",
        "print('Test accuracy: {}'.format(test_accuracy))"
      ],
      "execution_count": 48,
      "outputs": [
        {
          "output_type": "stream",
          "text": [
            "Test loss: 0.06767207395043806\n",
            "Test accuracy: 0.9805999994277954\n"
          ],
          "name": "stdout"
        }
      ]
    },
    {
      "cell_type": "code",
      "metadata": {
        "id": "PP8iRtWXWvTi",
        "colab_type": "code",
        "colab": {
          "base_uri": "https://localhost:8080/",
          "height": 312
        },
        "outputId": "d83a2992-ea5f-4a73-b967-a1e07427e1f6"
      },
      "source": [
        "\n",
        "plt.figure()\n",
        "plt.plot(reg_history.history['loss'], 'blue')\n",
        "plt.plot(reg_history.history['val_loss'], 'red')\n",
        "plt.legend(['Training loss', 'Validation Loss'])\n",
        "plt.xlabel('Epochs')\n",
        "plt.ylabel('Loss')\n",
        "plt.title('Loss Curves - after regularisation')"
      ],
      "execution_count": 49,
      "outputs": [
        {
          "output_type": "execute_result",
          "data": {
            "text/plain": [
              "Text(0.5, 1.0, 'Loss Curves - after regularisation')"
            ]
          },
          "metadata": {
            "tags": []
          },
          "execution_count": 49
        },
        {
          "output_type": "display_data",
          "data": {
            "image/png": "[encoded data removed]",
            "text/plain": [
              "<Figure size 432x288 with 1 Axes>"
            ]
          },
          "metadata": {
            "tags": [],
            "needs_background": "light"
          }
        }
      ]
    },
    {
      "cell_type": "markdown",
      "metadata": {
        "id": "8gL-QNdFknPY",
        "colab_type": "text"
      },
      "source": [
        "Making more predictions\n",
        "The essense of this is to show forth more predictions using our model to predict some images and labels. Remember you can tweak the model to predict images and labels."
      ]
    },
    {
      "cell_type": "code",
      "metadata": {
        "id": "iyf3M80UXIoX",
        "colab_type": "code",
        "colab": {
          "base_uri": "https://localhost:8080/",
          "height": 34
        },
        "outputId": "c0aeac80-45d7-4f33-a560-e316fba0f992"
      },
      "source": [
        "\n",
        "predictions = model.predict([test_images]) # Make prediction\n",
        "print(np.argmax(predictions[1000]))"
      ],
      "execution_count": 50,
      "outputs": [
        {
          "output_type": "stream",
          "text": [
            "9\n"
          ],
          "name": "stdout"
        }
      ]
    },
    {
      "cell_type": "code",
      "metadata": {
        "id": "jvZvdenuXUR_",
        "colab_type": "code",
        "colab": {
          "base_uri": "https://localhost:8080/",
          "height": 181
        },
        "outputId": "725a62ad-d615-4b9e-e1d0-aa40c9cf9107"
      },
      "source": [
        "\n",
        "# Let's see whether the image would turn out to be 9\n",
        "# Remember that the input data to the network were flattened for the purpose of learning to a vector with a length of 784. Before displaying it, we need to convert it back to the size of 28 x 28 pixels.\n",
        "plt.figure(figsize=(8, 5))\n",
        "\n",
        "plt.subplot(1,3,1)\n",
        "plt.imshow(test_images[1000].reshape(28,28), cmap=\"gray\") # Import the image\n",
        "plt.show() # Show the image"
      ],
      "execution_count": 51,
      "outputs": [
        {
          "output_type": "display_data",
          "data": {
            "image/png": "[encoded data removed]",
            "text/plain": [
              "<Figure size 576x360 with 1 Axes>"
            ]
          },
          "metadata": {
            "tags": [],
            "needs_background": "light"
          }
        }
      ]
    },
    {
      "cell_type": "code",
      "metadata": {
        "id": "4PqwN41JXevw",
        "colab_type": "code",
        "colab": {
          "base_uri": "https://localhost:8080/",
          "height": 34
        },
        "outputId": "022ecc4d-f2c1-4614-e021-18d24e00d963"
      },
      "source": [
        "\n",
        "# You can try out others and play around with them\n",
        "predictions = model.predict([test_images]) # Make prediction\n",
        "print(np.argmax(predictions[6700])) # Print out the number"
      ],
      "execution_count": 52,
      "outputs": [
        {
          "output_type": "stream",
          "text": [
            "4\n"
          ],
          "name": "stdout"
        }
      ]
    },
    {
      "cell_type": "code",
      "metadata": {
        "id": "MJeoqCrOX95U",
        "colab_type": "code",
        "colab": {
          "base_uri": "https://localhost:8080/",
          "height": 181
        },
        "outputId": "15d5041c-3941-45c4-b63c-8ebce9e23270"
      },
      "source": [
        "\n",
        "plt.figure(figsize=(8, 5))\n",
        "\n",
        "plt.subplot(1,3,1)\n",
        "plt.imshow(test_images[6700].reshape(28,28), cmap=\"gray\") # Import the image\n",
        "plt.show() # Show the image"
      ],
      "execution_count": 53,
      "outputs": [
        {
          "output_type": "display_data",
          "data": {
            "image/png": "[encoded data removed]",
            "text/plain": [
              "<Figure size 576x360 with 1 Axes>"
            ]
          },
          "metadata": {
            "tags": [],
            "needs_background": "light"
          }
        }
      ]
    },
    {
      "cell_type": "code",
      "metadata": {
        "id": "kE5kRCQzjJvW",
        "colab_type": "code",
        "colab": {
          "base_uri": "https://localhost:8080/",
          "height": 34
        },
        "outputId": "8b9a6b27-abf0-4822-f263-24eedd3a6c79"
      },
      "source": [
        "predictions = model.predict([test_images]) # Make prediction\n",
        "print(np.argmax(predictions[9000]))"
      ],
      "execution_count": 57,
      "outputs": [
        {
          "output_type": "stream",
          "text": [
            "7\n"
          ],
          "name": "stdout"
        }
      ]
    },
    {
      "cell_type": "code",
      "metadata": {
        "id": "7AwF7JY2jxM0",
        "colab_type": "code",
        "colab": {
          "base_uri": "https://localhost:8080/",
          "height": 181
        },
        "outputId": "e9ae20f4-225f-4104-f88b-70ef2aa3aae1"
      },
      "source": [
        "plt.figure(figsize=(8, 5))\n",
        "\n",
        "plt.subplot(1,3,1)\n",
        "plt.imshow(test_images[9000].reshape(28,28), cmap=\"gray\") # Import the image\n",
        "plt.show() # Show the image"
      ],
      "execution_count": 58,
      "outputs": [
        {
          "output_type": "display_data",
          "data": {
            "image/png": "[encoded data removed]",
            "text/plain": [
              "<Figure size 576x360 with 1 Axes>"
            ]
          },
          "metadata": {
            "tags": [],
            "needs_background": "light"
          }
        }
      ]
    },
    {
      "cell_type": "code",
      "metadata": {
        "id": "U3s1h4h_j94p",
        "colab_type": "code",
        "colab": {
          "base_uri": "https://localhost:8080/",
          "height": 34
        },
        "outputId": "eac4d0d0-7729-4301-abf9-d304fda936b5"
      },
      "source": [
        "predictions = model.predict([test_images]) # Make prediction\n",
        "print(np.argmax(predictions[9500]))"
      ],
      "execution_count": 60,
      "outputs": [
        {
          "output_type": "stream",
          "text": [
            "2\n"
          ],
          "name": "stdout"
        }
      ]
    },
    {
      "cell_type": "code",
      "metadata": {
        "id": "pGSGlryYkOir",
        "colab_type": "code",
        "colab": {
          "base_uri": "https://localhost:8080/",
          "height": 181
        },
        "outputId": "454364dd-28c1-4a92-ad9e-511804f3e8b0"
      },
      "source": [
        "plt.figure(figsize=(8, 5))\n",
        "\n",
        "plt.subplot(1,3,1)\n",
        "plt.imshow(test_images[9500].reshape(28,28), cmap=\"gray\") # Import the image\n",
        "plt.show() # Show the image"
      ],
      "execution_count": 61,
      "outputs": [
        {
          "output_type": "display_data",
          "data": {
            "image/png": "[encoded data removed]",
            "text/plain": [
              "<Figure size 576x360 with 1 Axes>"
            ]
          },
          "metadata": {
            "tags": [],
            "needs_background": "light"
          }
        }
      ]
    }
  ]
}